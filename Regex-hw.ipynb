{
 "cells": [
  {
   "cell_type": "markdown",
   "metadata": {},
   "source": [
    "# Домашнее задание к лекции \"Регулярные выражения\"\n",
    "Для зачета необходимо выполнить 4 задания.  \n",
    "Для зачета с отличием – все."
   ]
  },
  {
   "cell_type": "markdown",
   "metadata": {},
   "source": [
    "## Задание 1"
   ]
  },
  {
   "cell_type": "markdown",
   "metadata": {},
   "source": [
    "Напишите функцию, которая принимает на вход строку и проверяет является ли она валидным транспортным номером. Если да, то функция должна возвращать отдельно номер и регион."
   ]
  },
  {
   "cell_type": "code",
   "execution_count": 20,
   "metadata": {},
   "outputs": [
    {
     "name": "stdout",
     "output_type": "stream",
     "text": [
      "Введите регистрационный знак транспортного средства, в формате xx000x000: ЦУ125а11\n",
      "ЦУ125а11\n"
     ]
    }
   ],
   "source": [
    "import re\n",
    "i_num = (input('Введите регистрационный знак транспортного средства, в формате xx000x000: '))\n",
    "num = re.match('([а-яА-Я]{2})(\\d{3})([а-яА-Я])(\\d{2})(\\d?)', i_num)\n",
    "print(i_num if num else 'Введенный номерной знак не валиден, проверьте формат ввода!')"
   ]
  },
  {
   "cell_type": "markdown",
   "metadata": {},
   "source": [
    "## Задание 2"
   ]
  },
  {
   "cell_type": "markdown",
   "metadata": {},
   "source": [
    "Напишите функцию, которая проверяет e-mail адрес на валидность по стандарту RFC822: http://www.w3.org/Protocols/rfc822/. Для этого постарайтесь написать (в крайнем случае найти) самый полный шаблон для проверки e-mail адресов через регулярное выражение. Разберитесь и напишите примеры, какие ваш шаблон может не охватить."
   ]
  },
  {
   "cell_type": "code",
   "execution_count": 77,
   "metadata": {},
   "outputs": [
    {
     "name": "stdout",
     "output_type": "stream",
     "text": [
      "rete@fer.com  - валидный e-mail адрес\n",
      "ferto_@he^he.com \u001b[31m - e-mail адрес не соответствует стандарту RFC822\u001b[0m\n",
      "lazer12**ya.ru \u001b[31m - e-mail адрес не соответствует стандарту RFC822\u001b[0m\n",
      "zoomer@gm.fa  - валидный e-mail адрес\n",
      "jscjdckjsdbckhsdbckhds \u001b[31m - e-mail адрес не соответствует стандарту RFC822\u001b[0m\n"
     ]
    }
   ],
   "source": [
    "import re \n",
    "def validate(e_mail): \n",
    "    match = re.search(r\"(^[a-zA-Z0-9_.+-]+@[a-zA-Z0-9]+\\.[a-zA-Z0-9.]*\\.*[a-zA-Z0-9])\",e_mail) \n",
    "    if match: return print(e_mail, ' - валидный e-mail адрес') \n",
    "    else: return print(e_mail, \"\\033[31m{}\\033[0m\" .format(' - e-mail адрес не соответствует стандарту RFC822'))\n",
    "\n",
    "e_mail_list = ['rete@fer.com','ferto_@he^he.com', 'lazer12**ya.ru', 'zoomer@gm.fa','jscjdckjsdbckhsdbckhds']\n",
    "for e_mail in e_mail_list:\n",
    "    validate(str(e_mail))"
   ]
  },
  {
   "cell_type": "markdown",
   "metadata": {},
   "source": [
    "## Задание 3\n",
    "Напишите функцию, которая будет удалять все последовательные повторы слов из заданной строки."
   ]
  },
  {
   "cell_type": "code",
   "execution_count": 102,
   "metadata": {},
   "outputs": [
    {
     "data": {
      "text/plain": [
       "'What are regular expressions and how to use them?'"
      ]
     },
     "execution_count": 102,
     "metadata": {},
     "output_type": "execute_result"
    }
   ],
   "source": [
    "import re\n",
    "string = 'What are regular expressions expressions and how to use them?'\n",
    "re.sub(r'(\\b\\w+)(\\s\\1)+', r'\\1', string)"
   ]
  },
  {
   "cell_type": "markdown",
   "metadata": {},
   "source": [
    "## Задание 4\n",
    "Напишите функцию, которая будет проверять номер сотового телефона на валидность, если он валиден, то переводить его в формат:   \n",
    "+7(xxx)-xxx-xx-xx  \n",
    "Постарайтесь предусмотреть как можно больше адекватных форматов изначального ввода номера.\n",
    "Примеры правильных и неправильных форматов:\n",
    "- +7 955 555-55-55;\n",
    "- 955555555;\n",
    "- 8(955)555-55-55;\n",
    "- +7 955 555 55 55;\n",
    "- 7(955) 555-55-55;\n",
    "- +7 955+555+55+55."
   ]
  },
  {
   "cell_type": "code",
   "execution_count": 16,
   "metadata": {},
   "outputs": [
    {
     "name": "stdout",
     "output_type": "stream",
     "text": [
      "Введите телефонный номер: +7(916)459-85-69\n",
      "79164598569\n",
      "+7(916)459-85-69\n"
     ]
    }
   ],
   "source": [
    "import re \n",
    "\n",
    "num = (input('Введите телефонный номер: '))\n",
    "clear_num = re.sub(r'\\D+', '', num)\n",
    "print(clear_num)\n",
    "if len(clear_num) < 12 and len(clear_num) > 9:\n",
    "        norm_num = re.sub(r'\\d(\\d{3})(\\d{3})(\\d{2})(\\d{2})', r'+7(\\1)\\2-\\3-\\4', clear_num)\n",
    "        print(norm_num)\n",
    "else: print('Некоректно введен номер! Введите в формате 01234567891') "
   ]
  },
  {
   "cell_type": "code",
   "execution_count": null,
   "metadata": {},
   "outputs": [],
   "source": []
  }
 ],
 "metadata": {
  "kernelspec": {
   "display_name": "Python 3",
   "language": "python",
   "name": "python3"
  },
  "language_info": {
   "codemirror_mode": {
    "name": "ipython",
    "version": 3
   },
   "file_extension": ".py",
   "mimetype": "text/x-python",
   "name": "python",
   "nbconvert_exporter": "python",
   "pygments_lexer": "ipython3",
   "version": "3.7.4"
  }
 },
 "nbformat": 4,
 "nbformat_minor": 2
}
